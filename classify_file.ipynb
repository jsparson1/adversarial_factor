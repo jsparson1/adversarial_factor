{
 "cells": [
  {
   "cell_type": "code",
   "execution_count": 10,
   "metadata": {},
   "outputs": [
    {
     "name": "stdout",
     "output_type": "stream",
     "text": [
      "tensor([0, 0, 0, 0, 0, 1, 1, 1, 1, 1], device='mps:0')\n"
     ]
    },
    {
     "name": "stderr",
     "output_type": "stream",
     "text": [
      "/var/folders/vg/sggchpn93015p5cfxj4tthzw0000gp/T/ipykernel_46496/4186492344.py:35: UserWarning: Implicit dimension choice for softmax has been deprecated. Change the call to include dim=X as an argument.\n",
      "  print(torch.nn.functional.softmax(predictions).argmax(dim=-1))\n"
     ]
    }
   ],
   "source": [
    "import torch\n",
    "from torchvision import transforms, io\n",
    "from PIL import Image\n",
    "import numpy\n",
    "import cv2\n",
    "\n",
    "from facenet_pytorch import InceptionResnetV1, training\n",
    "import torchvision\n",
    "\n",
    "def get_tensor_from_filename(filename):\n",
    "    img = torchvision.io.read_image(filename) \n",
    "    return img\n",
    "\n",
    "\n",
    "#model_ft = torch.load('train_model_full.pt',weights_only=False)\n",
    "#model_ft.eval()\n",
    "device = 'mps'\n",
    "#model_ft = InceptionResnetV1(pretrained='vggface2', device=device, classify= True, num_classes=3)\n",
    "#state_dict = torch.load('./train_model_state_dict.pt')\n",
    "#model_ft.load_state_dict(state_dict)\n",
    "model_ft = torch.load('model.pth',weights_only=False)\n",
    "#model_ft.load_state_dict(torch.load('train_model_state_dict.pt'))\n",
    "model_ft.eval()\n",
    "\n",
    "images = []\n",
    "for i in ['auto-save/p1-0.png','auto-save/p1-1.png','auto-save/p1-2.png','auto-save/p1-3.png',\"auto-save/p1-4.png\"]:\n",
    "    images.append(get_tensor_from_filename(i))\n",
    "\n",
    "for i in ['auto-save/p2-0.png','auto-save/p2-1.png','auto-save/p2-2.png','auto-save/p2-3.png',\"auto-save/p2-4.png\"]:\n",
    "    images.append(get_tensor_from_filename(i))\n",
    "    \n",
    "images = torch.stack(images).to('mps').float()\n",
    "images = images / 255.0 # convert ints to float between [ 0 - 1 )\n",
    "predictions = model_ft(images)\n",
    "print(torch.nn.functional.softmax(predictions).argmax(dim=-1))\n",
    "\n",
    "#outputs = model_ft(images.to('mps'))\n",
    "#probs = torch.nn.functional.softmax(outputs, dim=1)"
   ]
  },
  {
   "cell_type": "code",
   "execution_count": null,
   "metadata": {},
   "outputs": [],
   "source": [
    "# guess a brute force\n"
   ]
  }
 ],
 "metadata": {
  "kernelspec": {
   "display_name": ".venv",
   "language": "python",
   "name": "python3"
  },
  "language_info": {
   "codemirror_mode": {
    "name": "ipython",
    "version": 3
   },
   "file_extension": ".py",
   "mimetype": "text/x-python",
   "name": "python",
   "nbconvert_exporter": "python",
   "pygments_lexer": "ipython3",
   "version": "3.10.15"
  }
 },
 "nbformat": 4,
 "nbformat_minor": 2
}
